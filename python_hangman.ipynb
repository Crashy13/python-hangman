{
 "cells": [
  {
   "cell_type": "code",
   "execution_count": 9,
   "id": "9a940246",
   "metadata": {},
   "outputs": [
    {
     "name": "stdout",
     "output_type": "stream",
     "text": [
      "The word is 9 letters long.\n",
      "_________\n",
      "Please guess a letter: c\n",
      "The letter c is in the word.\n",
      "c________\n",
      "Please guess a letter: q\n",
      "The letter q is not in the word.\n",
      "Please guess a letter: w\n",
      "The letter w is not in the word.\n",
      "Please guess a letter: e\n",
      "The letter e is not in the word.\n",
      "Please guess a letter: r\n",
      "The letter r is not in the word.\n",
      "Please guess a letter: t\n",
      "The letter t is not in the word.\n",
      "Please guess a letter: y\n",
      "The letter y is not in the word.\n",
      "You lose!\n"
     ]
    }
   ],
   "source": [
    "def play(word):\n",
    "    def split(word):\n",
    "        return [char for char in word]\n",
    "\n",
    "    comp_word = split(word)\n",
    "    used_letters = []\n",
    "    correct_letters = []\n",
    "    word_display = '_' * len(comp_word)\n",
    "    counter = 0\n",
    "    guessed = False\n",
    "    print('The word is', len(word), 'letters long.')\n",
    "    print(word_display)\n",
    "\n",
    "\n",
    "    while counter < 6:\n",
    "        user_guess = input(\"Please guess a letter: \")\n",
    "        user_guess = user_guess.lower()\n",
    "        if len(user_guess) == 1 and user_guess.isalpha():\n",
    "            if user_guess in used_letters:\n",
    "                print(\"You already tried\", user_guess, \".\")\n",
    "            elif user_guess not in word:\n",
    "                print('The letter', user_guess, 'is not in the word.')\n",
    "                counter += 1\n",
    "                used_letters.append(user_guess)\n",
    "                if counter == 6:\n",
    "                    print('You lose!')\n",
    "                    break\n",
    "            else:\n",
    "                print('The letter', user_guess, 'is in the word.')\n",
    "                used_letters.append(user_guess)\n",
    "                correct_letters.append(user_guess)\n",
    "                for i in range(len(comp_word)):\n",
    "                    if comp_word[i] in correct_letters:\n",
    "                        word_display = word_display[:i]+comp_word[i]+word_display[i+1:]\n",
    "                        print(word_display)\n",
    "                if correct_letters == comp_word:\n",
    "                    guessed = True\n",
    "                if guessed is True:\n",
    "                    print('You win!')\n",
    "                    break\n",
    "                        \n",
    "        elif len(user_guess) != 1:\n",
    "            print('Please choose only one letter')\n",
    "        elif user_guess != user_guess.isalpha():\n",
    "            print('Please choose a letter')\n",
    "        \n",
    "\n",
    "\n",
    "\n",
    "word = \"Champions\".lower()\n",
    "play(word)\n"
   ]
  },
  {
   "cell_type": "code",
   "execution_count": null,
   "id": "50867105",
   "metadata": {},
   "outputs": [],
   "source": []
  }
 ],
 "metadata": {
  "kernelspec": {
   "display_name": "Python 3",
   "language": "python",
   "name": "python3"
  },
  "language_info": {
   "codemirror_mode": {
    "name": "ipython",
    "version": 3
   },
   "file_extension": ".py",
   "mimetype": "text/x-python",
   "name": "python",
   "nbconvert_exporter": "python",
   "pygments_lexer": "ipython3",
   "version": "3.9.5"
  }
 },
 "nbformat": 4,
 "nbformat_minor": 5
}
