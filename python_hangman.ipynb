{
 "cells": [
  {
   "cell_type": "code",
   "execution_count": 109,
   "id": "b1505140",
   "metadata": {},
   "outputs": [
    {
     "name": "stdout",
     "output_type": "stream",
     "text": [
      "The word is 5 letters long.\n",
      "_____\n",
      "Please guess a letter: t\n",
      "The letter t is not in the word.\n",
      "Attempts remaining: 5 .\n",
      "Please guess a letter: l\n",
      "The letter l is not in the word.\n",
      "Attempts remaining: 4 .\n",
      "Please guess a letter: \n",
      "Please choose only one letter\n",
      "Please guess a letter: b\n",
      "The letter b is in the word.\n"
     ]
    },
    {
     "ename": "TypeError",
     "evalue": "'str' object does not support item assignment",
     "output_type": "error",
     "traceback": [
      "\u001b[0;31m---------------------------------------------------------------------------\u001b[0m",
      "\u001b[0;31mTypeError\u001b[0m                                 Traceback (most recent call last)",
      "\u001b[0;32m<ipython-input-109-3d4da9519c57>\u001b[0m in \u001b[0;36m<module>\u001b[0;34m\u001b[0m\n\u001b[1;32m     51\u001b[0m \u001b[0mwords\u001b[0m \u001b[0;34m=\u001b[0m \u001b[0;34m[\u001b[0m\u001b[0;34m\"Hornet\"\u001b[0m\u001b[0;34m,\u001b[0m \u001b[0;34m\"Flower\"\u001b[0m\u001b[0;34m,\u001b[0m \u001b[0;34m\"Bound\"\u001b[0m\u001b[0;34m,\u001b[0m \u001b[0;34m\"Zebra\"\u001b[0m\u001b[0;34m,\u001b[0m \u001b[0;34m\"Shot\"\u001b[0m\u001b[0;34m,\u001b[0m \u001b[0;34m\"Panther\"\u001b[0m\u001b[0;34m,\u001b[0m \u001b[0;34m\"Tiger\"\u001b[0m\u001b[0;34m,\u001b[0m \u001b[0;34m\"Cobra\"\u001b[0m\u001b[0;34m]\u001b[0m\u001b[0;34m\u001b[0m\u001b[0;34m\u001b[0m\u001b[0m\n\u001b[1;32m     52\u001b[0m \u001b[0mword\u001b[0m \u001b[0;34m=\u001b[0m \u001b[0mrandom\u001b[0m\u001b[0;34m.\u001b[0m\u001b[0mchoice\u001b[0m\u001b[0;34m(\u001b[0m\u001b[0mwords\u001b[0m\u001b[0;34m)\u001b[0m\u001b[0;34m.\u001b[0m\u001b[0mlower\u001b[0m\u001b[0;34m(\u001b[0m\u001b[0;34m)\u001b[0m\u001b[0;34m\u001b[0m\u001b[0;34m\u001b[0m\u001b[0m\n\u001b[0;32m---> 53\u001b[0;31m \u001b[0mplay\u001b[0m\u001b[0;34m(\u001b[0m\u001b[0mword\u001b[0m\u001b[0;34m)\u001b[0m\u001b[0;34m\u001b[0m\u001b[0;34m\u001b[0m\u001b[0m\n\u001b[0m",
      "\u001b[0;32m<ipython-input-109-3d4da9519c57>\u001b[0m in \u001b[0;36mplay\u001b[0;34m(word)\u001b[0m\n\u001b[1;32m     35\u001b[0m                     \u001b[0;32mfor\u001b[0m \u001b[0mindex\u001b[0m\u001b[0;34m,\u001b[0m \u001b[0mchar\u001b[0m \u001b[0;32min\u001b[0m \u001b[0menumerate\u001b[0m\u001b[0;34m(\u001b[0m\u001b[0mword\u001b[0m\u001b[0;34m)\u001b[0m\u001b[0;34m:\u001b[0m\u001b[0;34m\u001b[0m\u001b[0;34m\u001b[0m\u001b[0m\n\u001b[1;32m     36\u001b[0m                         \u001b[0;32mif\u001b[0m \u001b[0muser_guess\u001b[0m \u001b[0;34m==\u001b[0m \u001b[0mchar\u001b[0m\u001b[0;34m:\u001b[0m\u001b[0;34m\u001b[0m\u001b[0;34m\u001b[0m\u001b[0m\n\u001b[0;32m---> 37\u001b[0;31m                             \u001b[0mword_display\u001b[0m\u001b[0;34m[\u001b[0m\u001b[0mindex\u001b[0m\u001b[0;34m]\u001b[0m \u001b[0;34m=\u001b[0m \u001b[0muser_guess\u001b[0m\u001b[0;34m\u001b[0m\u001b[0;34m\u001b[0m\u001b[0m\n\u001b[0m\u001b[1;32m     38\u001b[0m                             \u001b[0mprint\u001b[0m\u001b[0;34m(\u001b[0m\u001b[0mword_display\u001b[0m\u001b[0;34m)\u001b[0m\u001b[0;34m\u001b[0m\u001b[0;34m\u001b[0m\u001b[0m\n\u001b[1;32m     39\u001b[0m \u001b[0;34m\u001b[0m\u001b[0m\n",
      "\u001b[0;31mTypeError\u001b[0m: 'str' object does not support item assignment"
     ]
    }
   ],
   "source": [
    "\n",
    "import random\n",
    "\n",
    "def play(word):\n",
    "    def split(word):\n",
    "        return [char for char in word]\n",
    "   \n",
    "    comp_word = split(word)\n",
    "    used_letters = []\n",
    "    correct_letters = []\n",
    "    word_display = ['_']*len(comp_word)\n",
    "    counter = 6\n",
    "    print('The word is', len(word), 'letters long.')\n",
    "    print(word_display)\n",
    "\n",
    "\n",
    "    while counter > 0:\n",
    "        user_guess = input(\"Please guess a letter: \")\n",
    "        user_guess = user_guess.lower()\n",
    "        if len(user_guess) == 1 and user_guess.isalpha():\n",
    "            if user_guess in used_letters:\n",
    "                print(\"You already tried\", user_guess, \".\")\n",
    "            elif user_guess not in word:\n",
    "                print('The letter', user_guess, 'is not in the word.')\n",
    "                counter -= 1\n",
    "                print('Attempts remaining:', counter, '.')\n",
    "                used_letters.append(user_guess)\n",
    "                if counter == 0:\n",
    "                    print('You lose!')\n",
    "                    \n",
    "            else:\n",
    "                print('The letter', user_guess, 'is in the word.')\n",
    "                used_letters.append(user_guess)\n",
    "                correct_letters.append(user_guess)\n",
    "                if user_guess in comp_word:\n",
    "                    for index, char in enumerate(word):\n",
    "                        if user_guess == char:\n",
    "                            word_display[index] = user_guess\n",
    "                            print(word_display)\n",
    "                    \n",
    "                if len(correct_letters) == len(comp_word):\n",
    "                    print('You win!')\n",
    "                    break\n",
    "                        \n",
    "        elif len(user_guess) != 1:\n",
    "            print('Please choose only one letter')\n",
    "        elif user_guess != user_guess.isalpha():\n",
    "            print('Please choose a letter')\n",
    "        \n",
    "\n",
    "\n",
    "words = [\"Hornet\", \"Flower\", \"Bound\", \"Zebra\", \"Shot\", \"Panther\", \"Tiger\", \"Cobra\"]\n",
    "word = random.choice(words).lower()\n",
    "play(word)\n"
   ]
  },
  {
   "cell_type": "code",
   "execution_count": null,
   "id": "24043b55",
   "metadata": {},
   "outputs": [],
   "source": []
  }
 ],
 "metadata": {
  "kernelspec": {
   "display_name": "Python 3",
   "language": "python",
   "name": "python3"
  },
  "language_info": {
   "codemirror_mode": {
    "name": "ipython",
    "version": 3
   },
   "file_extension": ".py",
   "mimetype": "text/x-python",
   "name": "python",
   "nbconvert_exporter": "python",
   "pygments_lexer": "ipython3",
   "version": "3.9.5"
  }
 },
 "nbformat": 4,
 "nbformat_minor": 5
}
