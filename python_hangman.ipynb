{
 "cells": [
  {
   "cell_type": "code",
   "execution_count": null,
   "id": "05ff40fa",
   "metadata": {},
   "outputs": [
    {
     "name": "stdout",
     "output_type": "stream",
     "text": [
      "The word is 6 letters long.\n",
      "['_', '_', '_', '_', '_', '_']\n"
     ]
    }
   ],
   "source": [
    "\n",
    "import random\n",
    "\n",
    "def play(word):\n",
    "    def split(word):\n",
    "        return [char for char in word]\n",
    "   \n",
    "    comp_word = split(word) \n",
    "    used_letters = [] # stores all letters guessed\n",
    "    correct_letters = [] # stores correct letters guessed\n",
    "    word_display = ['_']*len(comp_word) #display amount of _ equal to the length of the word\n",
    "    attempts = 6 # number of guesses remaining\n",
    "    print('The word is', len(word), 'letters long.')\n",
    "    print(word_display)\n",
    "\n",
    "\n",
    "    while attempts > 0:\n",
    "        user_guess = input(\"Please guess a letter: \")\n",
    "        user_guess = user_guess.lower()\n",
    "        if len(user_guess) == 1 and user_guess.isalpha():\n",
    "            if user_guess in used_letters:\n",
    "                print(\"You already tried\", user_guess, \".\")\n",
    "            elif user_guess not in word:\n",
    "                print('The letter', user_guess, 'is not in the word.')\n",
    "                counter -= 1\n",
    "                print('Attempts remaining:', counter, '.')\n",
    "                used_letters.append(user_guess)\n",
    "                if attempts == 0:\n",
    "                    print('You lose!')\n",
    "                    \n",
    "            else:\n",
    "                print('The letter', user_guess, 'is in the word.')\n",
    "                used_letters.append(user_guess)\n",
    "                correct_letters.append(user_guess)\n",
    "                if user_guess in comp_word:\n",
    "                    for index, char in enumerate(word):\n",
    "                        if user_guess == char:\n",
    "                            word_display[index] = user_guess\n",
    "                            print(word_display)\n",
    "                    \n",
    "                if len(correct_letters) == len(comp_word):\n",
    "                    print('You win!')\n",
    "                    break\n",
    "                        \n",
    "        elif len(user_guess) != 1:\n",
    "            print('Please choose only one letter')\n",
    "        elif user_guess != user_guess.isalpha():\n",
    "            print('Please choose a letter')\n",
    "        \n",
    "\n",
    "\n",
    "words = [\"Hornet\", \"Flower\", \"Bound\", \"Zebra\", \"Shot\", \"Panther\", \"Tiger\", \"Cobra\"]\n",
    "word = random.choice(words).lower()\n",
    "play(word)\n"
   ]
  },
  {
   "cell_type": "code",
   "execution_count": null,
   "id": "11251a51",
   "metadata": {},
   "outputs": [],
   "source": []
  }
 ],
 "metadata": {
  "kernelspec": {
   "display_name": "Python 3",
   "language": "python",
   "name": "python3"
  },
  "language_info": {
   "codemirror_mode": {
    "name": "ipython",
    "version": 3
   },
   "file_extension": ".py",
   "mimetype": "text/x-python",
   "name": "python",
   "nbconvert_exporter": "python",
   "pygments_lexer": "ipython3",
   "version": "3.9.5"
  }
 },
 "nbformat": 4,
 "nbformat_minor": 5
}
