{
 "cells": [
  {
   "cell_type": "code",
   "execution_count": null,
   "id": "6e4b2ed3",
   "metadata": {},
   "outputs": [
    {
     "name": "stdout",
     "output_type": "stream",
     "text": [
      "The word is 9 letters long.\n",
      "_ _ _ _ _ _ _ _ _ \n"
     ]
    }
   ],
   "source": [
    "def play(word):\n",
    "    def split(word):\n",
    "        return [char for char in word]\n",
    "\n",
    "    comp_word = split(word)\n",
    "    used_letters = []\n",
    "    correct_letters = []\n",
    "    word_display = '_ ' * len(word)\n",
    "    counter = 0\n",
    "    print('The word is', len(word), 'letters long.')\n",
    "    print(word_display)\n",
    "\n",
    "    while counter < 6:\n",
    "        user_guess = input(\"Please guess a letter: \")\n",
    "        user_guess = user_guess.lower()\n",
    "        if len(user_guess) == 1 and user_guess.isalpha():\n",
    "            if user_guess in used_letters:\n",
    "                print(\"You already tried\", user_guess, \".\")\n",
    "            elif user_guess not in word:\n",
    "                print('The letter', user_guess, 'is not in the word.')\n",
    "                counter += 1\n",
    "                used_letters.append(user_guess)\n",
    "            else:\n",
    "                print('The letter', user_guess, 'is in the word.')\n",
    "                used_letters.append(user_guess)\n",
    "                correct_letters.append(user_guess)\n",
    "                \n",
    "                \n",
    "        elif len(user_guess) != 1:\n",
    "            print('Please choose only one letter')\n",
    "        elif user_guess != user_guess.isalpha():\n",
    "            print('Please choose a letter')\n",
    "        \n",
    "\n",
    "\n",
    "\n",
    "\n",
    "\n",
    "word = \"Champions\".lower()\n",
    "play(word)\n"
   ]
  }
 ],
 "metadata": {
  "kernelspec": {
   "display_name": "Python 3",
   "language": "python",
   "name": "python3"
  },
  "language_info": {
   "codemirror_mode": {
    "name": "ipython",
    "version": 3
   },
   "file_extension": ".py",
   "mimetype": "text/x-python",
   "name": "python",
   "nbconvert_exporter": "python",
   "pygments_lexer": "ipython3",
   "version": "3.9.5"
  }
 },
 "nbformat": 4,
 "nbformat_minor": 5
}
